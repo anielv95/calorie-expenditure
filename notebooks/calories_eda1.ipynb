{
 "cells": [
  {
   "cell_type": "markdown",
   "id": "5a8849d9-0842-4258-be0b-80748dabf279",
   "metadata": {},
   "source": [
    "# import packages"
   ]
  },
  {
   "cell_type": "code",
   "execution_count": null,
   "id": "c0a26577-88e9-4b22-a772-df1882e273c8",
   "metadata": {},
   "outputs": [],
   "source": [
    "import pandas as pd\n",
    "from sklearn.model_selection import cross_val_score, train_test_split, cross_validate\n",
    "import zipfile\n",
    "import matplotlib.pyplot as plt\n",
    "import seaborn as sns\n",
    "import numpy as np\n",
    "import os\n",
    "from sklearn.metrics import root_mean_squared_log_error\n",
    "from sklearn.linear_model import LinearRegression"
   ]
  },
  {
   "cell_type": "code",
   "execution_count": null,
   "id": "a783ecc2-584e-4de7-b4ef-1acbe48fbb0c",
   "metadata": {},
   "outputs": [],
   "source": [
    "data_path = os.path.join(os.path.dirname(os.getcwd()),\"data\",os.listdir(os.path.join(os.path.dirname(os.getcwd()),\"data\"))[0])\n",
    "\n",
    "with zipfile.ZipFile(data_path) as z:\n",
    "    with z.open(\"sample_submission.csv\") as f:\n",
    "        sample_submission = pd.read_csv(f)\n",
    "    with z.open(\"test.csv\") as f:\n",
    "        test = pd.read_csv(f)\n",
    "    with z.open(\"train.csv\") as f:\n",
    "        train = pd.read_csv(f)"
   ]
  },
  {
   "cell_type": "code",
   "execution_count": null,
   "id": "3e01817f-42a2-4fd4-869e-921d7acb1133",
   "metadata": {},
   "outputs": [],
   "source": [
    "train.shape,test.shape"
   ]
  },
  {
   "cell_type": "code",
   "execution_count": null,
   "id": "a90fc14b-1a2a-4c8b-bd55-4d84c3e28cda",
   "metadata": {},
   "outputs": [],
   "source": [
    "train.info()"
   ]
  },
  {
   "cell_type": "code",
   "execution_count": null,
   "id": "fb98374f-faf6-4463-a135-28ebfca33c70",
   "metadata": {},
   "outputs": [],
   "source": [
    "train.head(2)"
   ]
  },
  {
   "cell_type": "code",
   "execution_count": null,
   "id": "1f6cde80-8e40-467c-9a4c-dc300ac13f47",
   "metadata": {},
   "outputs": [],
   "source": [
    "def get_dtypes(df):\n",
    "    cols = list(df.columns)\n",
    "    object_features, numerical_features = [], []\n",
    "    datatypes = df.dtypes.to_dict()\n",
    "    object_features = [column for column in cols if datatypes[column].name=='object']\n",
    "    numerical_features = [column for column in cols if column not in object_features ]\n",
    "    return object_features,numerical_features\n",
    "   "
   ]
  },
  {
   "cell_type": "code",
   "execution_count": null,
   "id": "6ac1b768-6966-4ec5-b771-a02d3798d278",
   "metadata": {},
   "outputs": [],
   "source": [
    "object_features, numerical_features = get_dtypes(train)"
   ]
  },
  {
   "cell_type": "code",
   "execution_count": null,
   "id": "e01f71be-68d6-4040-877a-1e886ac5f892",
   "metadata": {},
   "outputs": [],
   "source": [
    "train.describe()"
   ]
  },
  {
   "cell_type": "code",
   "execution_count": null,
   "id": "db3c7e0d-83af-406f-be23-67160d30f440",
   "metadata": {},
   "outputs": [],
   "source": [
    "train.hist(bins=50, figsize=(12, 12))"
   ]
  },
  {
   "cell_type": "code",
   "execution_count": null,
   "id": "65e595ae-1a9c-4ae4-ae9e-d292527d5635",
   "metadata": {},
   "outputs": [],
   "source": [
    "bins = [-np.inf,80,90,100,110,np.inf]\n",
    "labels = [0,1,2,3,4]\n",
    "train[\"hr_category\"] = pd.cut(train[\"Heart_Rate\"],\n",
    "                               bins=bins,\n",
    "                               labels=labels)\n"
   ]
  },
  {
   "cell_type": "code",
   "execution_count": null,
   "id": "00ae7a64-56d2-4fb8-8ff6-acf790f242c5",
   "metadata": {},
   "outputs": [],
   "source": [
    "train, test_set = train_test_split(\n",
    "    train, test_size=0.2, stratify=train[[\"hr_category\"]], random_state=42)"
   ]
  },
  {
   "cell_type": "code",
   "execution_count": null,
   "id": "63ae6400-50de-494b-9a6b-738dcfc1152b",
   "metadata": {},
   "outputs": [],
   "source": [
    "train_set, validation_set = train_test_split(\n",
    "    train_validation_set, test_size=0.20, stratify=train_validation_set[[\"hr_category\"]], random_state=42)"
   ]
  },
  {
   "cell_type": "code",
   "execution_count": null,
   "id": "03196e8b-f5e5-4efe-a961-41d73c7d4800",
   "metadata": {},
   "outputs": [],
   "source": [
    "train_set.shape, validation_set.shape, test_set.shape, train_validation_set.shape"
   ]
  },
  {
   "cell_type": "code",
   "execution_count": null,
   "id": "f6326a1f-099a-4846-b614-a8e99e9c7456",
   "metadata": {},
   "outputs": [],
   "source": [
    "sns.pairplot(train_set)"
   ]
  },
  {
   "cell_type": "code",
   "execution_count": null,
   "id": "5c9ee163-a530-406b-bb6d-555bd2297730",
   "metadata": {},
   "outputs": [],
   "source": [
    "train_set.columns"
   ]
  },
  {
   "cell_type": "code",
   "execution_count": null,
   "id": "9007f39e-4eeb-4584-8a8d-158c97f76b8c",
   "metadata": {},
   "outputs": [],
   "source": [
    "target = \"Calories\""
   ]
  },
  {
   "cell_type": "code",
   "execution_count": null,
   "id": "1767a1da-a8fd-417c-b19c-5c234bae0474",
   "metadata": {},
   "outputs": [],
   "source": [
    "train_set.plot(kind=\"scatter\", x=\"Heart_Rate\", y=target, grid=True, alpha=0.005)"
   ]
  },
  {
   "cell_type": "markdown",
   "id": "64a5e031-2f23-4dd2-9fa9-0f97ac49361e",
   "metadata": {},
   "source": [
    "# new features"
   ]
  },
  {
   "cell_type": "code",
   "execution_count": null,
   "id": "5fbc9809-c6e1-4863-bb53-38e9c48affac",
   "metadata": {},
   "outputs": [],
   "source": [
    "train_set[\"heart_rate_duration\"] = train_set[\"Heart_Rate\"]*train_set[\"Duration\"]"
   ]
  },
  {
   "cell_type": "code",
   "execution_count": null,
   "id": "fc23d3a4-b814-4fce-a036-771c8dd590f6",
   "metadata": {},
   "outputs": [],
   "source": [
    "train_set.plot(kind=\"scatter\", x=\"heart_rate_duration\", y=target, grid=True, alpha=0.005)"
   ]
  },
  {
   "cell_type": "code",
   "execution_count": null,
   "id": "943f851d-2ba3-46b1-b322-33411918bbfc",
   "metadata": {},
   "outputs": [],
   "source": [
    "train_set.plot(kind=\"scatter\", x=\"heart_rate_duration\", y=target, grid=True,)"
   ]
  },
  {
   "cell_type": "code",
   "execution_count": null,
   "id": "3ee13a5b-fd19-4f46-a43f-3545df213220",
   "metadata": {},
   "outputs": [],
   "source": [
    "lin_reg = LinearRegression(fit_intercept=False)"
   ]
  },
  {
   "cell_type": "code",
   "execution_count": null,
   "id": "1999cb6e-af95-4531-9f24-11a2d2941012",
   "metadata": {},
   "outputs": [],
   "source": [
    "linear_rmsles = cross_val_score(lin_reg, train_set[\"heart_rate_duration\"].values.reshape(-1,1), train_set[target].values,\n",
    "                              scoring=\"neg_root_mean_squared_log_error\", cv=10)"
   ]
  },
  {
   "cell_type": "code",
   "execution_count": null,
   "id": "5648799c-85ec-4a20-b6c3-acdd230d8890",
   "metadata": {},
   "outputs": [],
   "source": [
    "linear_rmsles.mean()"
   ]
  },
  {
   "cell_type": "code",
   "execution_count": null,
   "id": "01057f83-164a-42cd-b403-180df14e6810",
   "metadata": {},
   "outputs": [],
   "source": [
    "linear_results = cross_validate(lin_reg, train_set[\"heart_rate_duration\"].values.reshape(-1,1), train_set[target].values,\n",
    "                              scoring=\"neg_root_mean_squared_log_error\", cv=10,return_train_score=True)"
   ]
  },
  {
   "cell_type": "code",
   "execution_count": null,
   "id": "028ce0e5-9556-4050-9665-3ec638857464",
   "metadata": {},
   "outputs": [],
   "source": [
    "linear_results"
   ]
  },
  {
   "cell_type": "code",
   "execution_count": null,
   "id": "c442e175-9471-4705-bb98-73e571d50679",
   "metadata": {},
   "outputs": [],
   "source": []
  }
 ],
 "metadata": {
  "kernelspec": {
   "display_name": "Python 3 (ipykernel)",
   "language": "python",
   "name": "python3"
  },
  "language_info": {
   "codemirror_mode": {
    "name": "ipython",
    "version": 3
   },
   "file_extension": ".py",
   "mimetype": "text/x-python",
   "name": "python",
   "nbconvert_exporter": "python",
   "pygments_lexer": "ipython3",
   "version": "3.11.8"
  }
 },
 "nbformat": 4,
 "nbformat_minor": 5
}
