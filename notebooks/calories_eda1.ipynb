{
 "cells": [
  {
   "cell_type": "code",
   "execution_count": null,
   "id": "c0a26577-88e9-4b22-a772-df1882e273c8",
   "metadata": {},
   "outputs": [],
   "source": [
    "import pandas as pd\n",
    "from sklearn.model_selection import cross_val_score, train_test_split\n",
    "import zipfile\n",
    "import matplotlib.pyplot as plt\n",
    "import seaborn as sns\n",
    "import numpy as np\n",
    "import os"
   ]
  },
  {
   "cell_type": "code",
   "execution_count": null,
   "id": "a783ecc2-584e-4de7-b4ef-1acbe48fbb0c",
   "metadata": {},
   "outputs": [],
   "source": [
    "data_path = os.path.join(os.path.dirname(os.getcwd()),\"data\",os.listdir(os.path.join(os.path.dirname(os.getcwd()),\"data\"))[0])\n",
    "\n",
    "with zipfile.ZipFile(data_path) as z:\n",
    "    with z.open(\"sample_submission.csv\") as f:\n",
    "        sample_submission = pd.read_csv(f)\n",
    "    with z.open(\"test.csv\") as f:\n",
    "        test = pd.read_csv(f)\n",
    "    with z.open(\"train.csv\") as f:\n",
    "        train = pd.read_csv(f)"
   ]
  },
  {
   "cell_type": "code",
   "execution_count": null,
   "id": "3e01817f-42a2-4fd4-869e-921d7acb1133",
   "metadata": {},
   "outputs": [],
   "source": [
    "train.shape,test.shape"
   ]
  },
  {
   "cell_type": "code",
   "execution_count": null,
   "id": "a90fc14b-1a2a-4c8b-bd55-4d84c3e28cda",
   "metadata": {},
   "outputs": [],
   "source": [
    "train.info()"
   ]
  },
  {
   "cell_type": "code",
   "execution_count": null,
   "id": "fb98374f-faf6-4463-a135-28ebfca33c70",
   "metadata": {},
   "outputs": [],
   "source": [
    "train.head(2)"
   ]
  },
  {
   "cell_type": "code",
   "execution_count": null,
   "id": "1f6cde80-8e40-467c-9a4c-dc300ac13f47",
   "metadata": {},
   "outputs": [],
   "source": [
    "def get_dtypes(df):\n",
    "    cols = list(df.columns)\n",
    "    object_features, numerical_features = [], []\n",
    "    datatypes = df.dtypes.to_dict()\n",
    "    object_features = [column for column in cols if datatypes[column].name=='object']\n",
    "    numerical_features = [column for column in cols if column not in object_features ]\n",
    "    return object_features,numerical_features\n",
    "   "
   ]
  },
  {
   "cell_type": "code",
   "execution_count": null,
   "id": "6ac1b768-6966-4ec5-b771-a02d3798d278",
   "metadata": {},
   "outputs": [],
   "source": [
    "object_features, numerical_features = get_dtypes(train)"
   ]
  },
  {
   "cell_type": "code",
   "execution_count": null,
   "id": "e01f71be-68d6-4040-877a-1e886ac5f892",
   "metadata": {},
   "outputs": [],
   "source": [
    "train.describe()"
   ]
  },
  {
   "cell_type": "code",
   "execution_count": null,
   "id": "db3c7e0d-83af-406f-be23-67160d30f440",
   "metadata": {},
   "outputs": [],
   "source": [
    "train.hist(bins=50, figsize=(12, 12))"
   ]
  },
  {
   "cell_type": "code",
   "execution_count": null,
   "id": "65e595ae-1a9c-4ae4-ae9e-d292527d5635",
   "metadata": {},
   "outputs": [],
   "source": [
    "bins = [-np.inf,80,90,100,110,np.inf]\n",
    "labels = [0,1,2,3,4]\n",
    "train[\"hr_category\"] = pd.cut(train[\"Heart_Rate\"],\n",
    "                               bins=bins,\n",
    "                               labels=labels)\n"
   ]
  },
  {
   "cell_type": "code",
   "execution_count": null,
   "id": "00ae7a64-56d2-4fb8-8ff6-acf790f242c5",
   "metadata": {},
   "outputs": [],
   "source": [
    "strat_train_set, strat_test_set = train_test_split(\n",
    "    train, test_size=0.2, stratify=train[[target,\"IsActiveMember\"]], random_state=42)"
   ]
  },
  {
   "cell_type": "code",
   "execution_count": null,
   "id": "f6326a1f-099a-4846-b614-a8e99e9c7456",
   "metadata": {},
   "outputs": [],
   "source": [
    "sns.pairplot(train)"
   ]
  }
 ],
 "metadata": {
  "kernelspec": {
   "display_name": "Python 3 (ipykernel)",
   "language": "python",
   "name": "python3"
  },
  "language_info": {
   "codemirror_mode": {
    "name": "ipython",
    "version": 3
   },
   "file_extension": ".py",
   "mimetype": "text/x-python",
   "name": "python",
   "nbconvert_exporter": "python",
   "pygments_lexer": "ipython3",
   "version": "3.11.8"
  }
 },
 "nbformat": 4,
 "nbformat_minor": 5
}
